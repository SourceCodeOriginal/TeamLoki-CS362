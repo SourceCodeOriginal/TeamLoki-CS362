{
 "cells": [
  {
   "cell_type": "code",
   "execution_count": 1,
   "id": "sixth-celebrity",
   "metadata": {},
   "outputs": [
    {
     "name": "stdout",
     "output_type": "stream",
     "text": [
      "package 'bnlearn' successfully unpacked and MD5 sums checked\n"
     ]
    },
    {
     "name": "stderr",
     "output_type": "stream",
     "text": [
      "Warning message:\n",
      "\"cannot remove prior installation of package 'bnlearn'\"Warning message in file.copy(savedcopy, lib, recursive = TRUE):\n",
      "\"problem copying C:\\Users\\Gaurav Singh\\anaconda3\\envs\\R-language\\Lib\\R\\library\\00LOCK\\bnlearn\\libs\\x64\\bnlearn.dll to C:\\Users\\Gaurav Singh\\anaconda3\\envs\\R-language\\Lib\\R\\library\\bnlearn\\libs\\x64\\bnlearn.dll: Permission denied\"Warning message:\n",
      "\"restored 'bnlearn'\""
     ]
    },
    {
     "name": "stdout",
     "output_type": "stream",
     "text": [
      "\n",
      "The downloaded binary packages are in\n",
      "\tC:\\Users\\Gaurav Singh\\AppData\\Local\\Temp\\RtmpW6SCBV\\downloaded_packages\n",
      "package 'bnclassify' successfully unpacked and MD5 sums checked\n"
     ]
    },
    {
     "name": "stderr",
     "output_type": "stream",
     "text": [
      "Warning message:\n",
      "\"cannot remove prior installation of package 'bnclassify'\"Warning message in file.copy(savedcopy, lib, recursive = TRUE):\n",
      "\"problem copying C:\\Users\\Gaurav Singh\\anaconda3\\envs\\R-language\\Lib\\R\\library\\00LOCK\\bnclassify\\libs\\x64\\bnclassify.dll to C:\\Users\\Gaurav Singh\\anaconda3\\envs\\R-language\\Lib\\R\\library\\bnclassify\\libs\\x64\\bnclassify.dll: Permission denied\"Warning message:\n",
      "\"restored 'bnclassify'\""
     ]
    },
    {
     "name": "stdout",
     "output_type": "stream",
     "text": [
      "\n",
      "The downloaded binary packages are in\n",
      "\tC:\\Users\\Gaurav Singh\\AppData\\Local\\Temp\\RtmpW6SCBV\\downloaded_packages\n",
      "package 'dplyr' successfully unpacked and MD5 sums checked\n"
     ]
    },
    {
     "name": "stderr",
     "output_type": "stream",
     "text": [
      "Warning message:\n",
      "\"cannot remove prior installation of package 'dplyr'\"Warning message in file.copy(savedcopy, lib, recursive = TRUE):\n",
      "\"problem copying C:\\Users\\Gaurav Singh\\anaconda3\\envs\\R-language\\Lib\\R\\library\\00LOCK\\dplyr\\libs\\x64\\dplyr.dll to C:\\Users\\Gaurav Singh\\anaconda3\\envs\\R-language\\Lib\\R\\library\\dplyr\\libs\\x64\\dplyr.dll: Permission denied\"Warning message:\n",
      "\"restored 'dplyr'\""
     ]
    },
    {
     "name": "stdout",
     "output_type": "stream",
     "text": [
      "\n",
      "The downloaded binary packages are in\n",
      "\tC:\\Users\\Gaurav Singh\\AppData\\Local\\Temp\\RtmpW6SCBV\\downloaded_packages\n",
      "package 'caTools' successfully unpacked and MD5 sums checked\n"
     ]
    },
    {
     "name": "stderr",
     "output_type": "stream",
     "text": [
      "Warning message:\n",
      "\"cannot remove prior installation of package 'caTools'\"Warning message in file.copy(savedcopy, lib, recursive = TRUE):\n",
      "\"problem copying C:\\Users\\Gaurav Singh\\anaconda3\\envs\\R-language\\Lib\\R\\library\\00LOCK\\caTools\\libs\\x64\\caTools.dll to C:\\Users\\Gaurav Singh\\anaconda3\\envs\\R-language\\Lib\\R\\library\\caTools\\libs\\x64\\caTools.dll: Permission denied\"Warning message:\n",
      "\"restored 'caTools'\""
     ]
    },
    {
     "name": "stdout",
     "output_type": "stream",
     "text": [
      "\n",
      "The downloaded binary packages are in\n",
      "\tC:\\Users\\Gaurav Singh\\AppData\\Local\\Temp\\RtmpW6SCBV\\downloaded_packages\n"
     ]
    },
    {
     "name": "stderr",
     "output_type": "stream",
     "text": [
      "Bioconductor version 3.10 (BiocManager 1.30.10), R 3.6.1 (2019-07-05)\n",
      "Installing package(s) 'graph'\n"
     ]
    },
    {
     "name": "stdout",
     "output_type": "stream",
     "text": [
      "package 'graph' successfully unpacked and MD5 sums checked\n"
     ]
    },
    {
     "name": "stderr",
     "output_type": "stream",
     "text": [
      "Warning message:\n",
      "\"cannot remove prior installation of package 'graph'\"Warning message in file.copy(savedcopy, lib, recursive = TRUE):\n",
      "\"problem copying C:\\Users\\Gaurav Singh\\anaconda3\\envs\\R-language\\Lib\\R\\library\\00LOCK\\graph\\libs\\x64\\BioC_graph.dll to C:\\Users\\Gaurav Singh\\anaconda3\\envs\\R-language\\Lib\\R\\library\\graph\\libs\\x64\\BioC_graph.dll: Permission denied\"Warning message:\n",
      "\"restored 'graph'\""
     ]
    },
    {
     "name": "stdout",
     "output_type": "stream",
     "text": [
      "\n",
      "The downloaded binary packages are in\n",
      "\tC:\\Users\\Gaurav Singh\\AppData\\Local\\Temp\\RtmpW6SCBV\\downloaded_packages\n"
     ]
    },
    {
     "name": "stderr",
     "output_type": "stream",
     "text": [
      "Old packages: 'askpass', 'backports', 'BH', 'boot', 'broom', 'callr', 'caret',\n",
      "  'class', 'cli', 'clipr', 'cluster', 'codetools', 'colorspace', 'crayon',\n",
      "  'curl', 'data.table', 'DBI', 'dbplyr', 'digest', 'evaluate', 'fansi',\n",
      "  'forcats', 'foreach', 'formatR', 'fs', 'generics', 'ggplot2', 'glmnet',\n",
      "  'gower', 'haven', 'hexbin', 'hms', 'htmltools', 'htmlwidgets', 'httpuv',\n",
      "  'httr', 'ipred', 'IRdisplay', 'IRkernel', 'iterators', 'jsonlite',\n",
      "  'KernSmooth', 'knitr', 'labeling', 'later', 'lattice', 'lava', 'lubridate',\n",
      "  'magrittr', 'markdown', 'MASS', 'Matrix', 'mgcv', 'mime', 'ModelMetrics',\n",
      "  'modelr', 'nlme', 'nnet', 'numDeriv', 'openssl', 'pbdZMQ', 'pillar',\n",
      "  'pkgconfig', 'plyr', 'prettyunits', 'processx', 'prodlim', 'progress',\n",
      "  'promises', 'ps', 'purrr', 'quantmod', 'R6', 'Rcpp', 'readr', 'recipes',\n",
      "  'repr', 'reprex', 'reshape2', 'rmarkdown', 'rstudioapi', 'rvest', 'scales',\n",
      "  'selectr', 'shiny', 'spatial', 'SQUAREM', 'stringi', 'survival', 'sys',\n",
      "  'tidyr', 'tidyverse', 'tinytex', 'TTR', 'uuid', 'whisker', 'withr', 'xfun',\n",
      "  'xml2', 'xts', 'yaml', 'zoo'\n",
      "Bioconductor version 3.10 (BiocManager 1.30.10), R 3.6.1 (2019-07-05)\n",
      "Installing package(s) 'Rgraphviz'\n"
     ]
    },
    {
     "name": "stdout",
     "output_type": "stream",
     "text": [
      "package 'Rgraphviz' successfully unpacked and MD5 sums checked\n"
     ]
    },
    {
     "name": "stderr",
     "output_type": "stream",
     "text": [
      "Warning message:\n",
      "\"cannot remove prior installation of package 'Rgraphviz'\"Warning message in file.copy(savedcopy, lib, recursive = TRUE):\n",
      "\"problem copying C:\\Users\\Gaurav Singh\\anaconda3\\envs\\R-language\\Lib\\R\\library\\00LOCK\\Rgraphviz\\libs\\x64\\Rgraphviz.dll to C:\\Users\\Gaurav Singh\\anaconda3\\envs\\R-language\\Lib\\R\\library\\Rgraphviz\\libs\\x64\\Rgraphviz.dll: Permission denied\"Warning message:\n",
      "\"restored 'Rgraphviz'\""
     ]
    },
    {
     "name": "stdout",
     "output_type": "stream",
     "text": [
      "\n",
      "The downloaded binary packages are in\n",
      "\tC:\\Users\\Gaurav Singh\\AppData\\Local\\Temp\\RtmpW6SCBV\\downloaded_packages\n"
     ]
    },
    {
     "name": "stderr",
     "output_type": "stream",
     "text": [
      "Old packages: 'askpass', 'backports', 'BH', 'boot', 'broom', 'callr', 'caret',\n",
      "  'class', 'cli', 'clipr', 'cluster', 'codetools', 'colorspace', 'crayon',\n",
      "  'curl', 'data.table', 'DBI', 'dbplyr', 'digest', 'evaluate', 'fansi',\n",
      "  'forcats', 'foreach', 'formatR', 'fs', 'generics', 'ggplot2', 'glmnet',\n",
      "  'gower', 'haven', 'hexbin', 'hms', 'htmltools', 'htmlwidgets', 'httpuv',\n",
      "  'httr', 'ipred', 'IRdisplay', 'IRkernel', 'iterators', 'jsonlite',\n",
      "  'KernSmooth', 'knitr', 'labeling', 'later', 'lattice', 'lava', 'lubridate',\n",
      "  'magrittr', 'markdown', 'MASS', 'Matrix', 'mgcv', 'mime', 'ModelMetrics',\n",
      "  'modelr', 'nlme', 'nnet', 'numDeriv', 'openssl', 'pbdZMQ', 'pillar',\n",
      "  'pkgconfig', 'plyr', 'prettyunits', 'processx', 'prodlim', 'progress',\n",
      "  'promises', 'ps', 'purrr', 'quantmod', 'R6', 'Rcpp', 'readr', 'recipes',\n",
      "  'repr', 'reprex', 'reshape2', 'rmarkdown', 'rstudioapi', 'rvest', 'scales',\n",
      "  'selectr', 'shiny', 'spatial', 'SQUAREM', 'stringi', 'survival', 'sys',\n",
      "  'tidyr', 'tidyverse', 'tinytex', 'TTR', 'uuid', 'whisker', 'withr', 'xfun',\n",
      "  'xml2', 'xts', 'yaml', 'zoo'\n"
     ]
    }
   ],
   "source": [
    "install.packages('bnlearn')\n",
    "install.packages('bnclassify')\n",
    "install.packages('dplyr')\n",
    "install.packages(\"caTools\")\n",
    "if (!requireNamespace(\"BiocManager\", quietly = TRUE))\n",
    "    install.packages(\"BiocManager\")\n",
    "BiocManager::install(\"graph\")\n",
    "BiocManager::install(\"Rgraphviz\")"
   ]
  },
  {
   "cell_type": "code",
   "execution_count": 2,
   "id": "broadband-optimum",
   "metadata": {},
   "outputs": [
    {
     "name": "stderr",
     "output_type": "stream",
     "text": [
      "Warning message:\n",
      "\"package 'bnlearn' was built under R version 3.6.3\"Warning message:\n",
      "\"package 'dplyr' was built under R version 3.6.3\"\n",
      "Attaching package: 'dplyr'\n",
      "\n",
      "The following objects are masked from 'package:stats':\n",
      "\n",
      "    filter, lag\n",
      "\n",
      "The following objects are masked from 'package:base':\n",
      "\n",
      "    intersect, setdiff, setequal, union\n",
      "\n",
      "Warning message:\n",
      "\"package 'bnclassify' was built under R version 3.6.3\"\n",
      "Attaching package: 'bnclassify'\n",
      "\n",
      "The following object is masked from 'package:dplyr':\n",
      "\n",
      "    vars\n",
      "\n",
      "The following objects are masked from 'package:bnlearn':\n",
      "\n",
      "    modelstring, narcs, nparams\n",
      "\n",
      "Warning message:\n",
      "\"package 'caTools' was built under R version 3.6.3\"Registered S3 methods overwritten by 'ggplot2':\n",
      "  method         from \n",
      "  [.quosures     rlang\n",
      "  c.quosures     rlang\n",
      "  print.quosures rlang\n",
      "Registered S3 method overwritten by 'rvest':\n",
      "  method            from\n",
      "  read_xml.response xml2\n",
      "-- Attaching packages --------------------------------------- tidyverse 1.2.1 --\n",
      "v ggplot2 3.1.1     v readr   1.3.1\n",
      "v tibble  3.0.6     v purrr   0.3.2\n",
      "v tidyr   0.8.3     v stringr 1.4.0\n",
      "v ggplot2 3.1.1     v forcats 0.4.0\n",
      "Warning message:\n",
      "\"package 'tibble' was built under R version 3.6.3\"-- Conflicts ------------------------------------------ tidyverse_conflicts() --\n",
      "x dplyr::filter() masks stats::filter()\n",
      "x dplyr::lag()    masks stats::lag()\n",
      "x ggplot2::vars() masks bnclassify::vars(), dplyr::vars()\n",
      "Loading required package: lattice\n",
      "\n",
      "Attaching package: 'caret'\n",
      "\n",
      "The following object is masked from 'package:purrr':\n",
      "\n",
      "    lift\n",
      "\n",
      "Loading required package: BiocGenerics\n",
      "Loading required package: parallel\n",
      "\n",
      "Attaching package: 'BiocGenerics'\n",
      "\n",
      "The following objects are masked from 'package:parallel':\n",
      "\n",
      "    clusterApply, clusterApplyLB, clusterCall, clusterEvalQ,\n",
      "    clusterExport, clusterMap, parApply, parCapply, parLapply,\n",
      "    parLapplyLB, parRapply, parSapply, parSapplyLB\n",
      "\n",
      "The following objects are masked from 'package:dplyr':\n",
      "\n",
      "    combine, intersect, setdiff, union\n",
      "\n",
      "The following objects are masked from 'package:bnlearn':\n",
      "\n",
      "    path, score\n",
      "\n",
      "The following objects are masked from 'package:stats':\n",
      "\n",
      "    IQR, mad, sd, var, xtabs\n",
      "\n",
      "The following objects are masked from 'package:base':\n",
      "\n",
      "    anyDuplicated, append, as.data.frame, basename, cbind, colnames,\n",
      "    dirname, do.call, duplicated, eval, evalq, Filter, Find, get, grep,\n",
      "    grepl, intersect, is.unsorted, lapply, Map, mapply, match, mget,\n",
      "    order, paste, pmax, pmax.int, pmin, pmin.int, Position, rank,\n",
      "    rbind, Reduce, rownames, sapply, setdiff, sort, table, tapply,\n",
      "    union, unique, unsplit, which, which.max, which.min\n",
      "\n",
      "\n",
      "Attaching package: 'graph'\n",
      "\n",
      "The following object is masked from 'package:stringr':\n",
      "\n",
      "    boundary\n",
      "\n",
      "The following objects are masked from 'package:bnlearn':\n",
      "\n",
      "    degree, nodes, nodes<-\n",
      "\n",
      "Loading required package: grid\n"
     ]
    }
   ],
   "source": [
    "library(bnlearn)\n",
    "library(dplyr)\n",
    "library(bnclassify)\n",
    "library(caTools)\n",
    "library(tidyverse)\n",
    "library(caret)\n",
    "library(graph)\n",
    "library(Rgraphviz)"
   ]
  },
  {
   "cell_type": "markdown",
   "id": "greater-dublin",
   "metadata": {},
   "source": [
    "### Loading Data and finding total no of records"
   ]
  },
  {
   "cell_type": "code",
   "execution_count": 3,
   "id": "confirmed-rotation",
   "metadata": {},
   "outputs": [],
   "source": [
    "course.grades <- read.table('data.txt', head=TRUE)\n",
    "N <- nrow(course.grades)"
   ]
  },
  {
   "cell_type": "markdown",
   "id": "violent-movie",
   "metadata": {},
   "source": [
    "### Apply factor and convert it into frame"
   ]
  },
  {
   "cell_type": "code",
   "execution_count": 4,
   "id": "chicken-vertical",
   "metadata": {},
   "outputs": [],
   "source": [
    "course.grades <- lapply(course.grades, as.factor)\n",
    "course.grades <- data.frame(course.grades)"
   ]
  },
  {
   "cell_type": "markdown",
   "id": "controlled-release",
   "metadata": {},
   "source": [
    "## Q.1) Consider grades earned in each of the courses as random variables and learn the dependencies between courses.\n",
    "\n",
    "### Apply hill climber and score k2 to get sub-optimal structural dependecy between courses"
   ]
  },
  {
   "cell_type": "code",
   "execution_count": 5,
   "id": "regular-humor",
   "metadata": {},
   "outputs": [
    {
     "data": {
      "image/png": "[encoded data removed]",
      "text/plain": [
       "plot without title"
      ]
     },
     "metadata": {},
     "output_type": "display_data"
    }
   ],
   "source": [
    "bayes_bn <- hc(course.grades[,0:8], score=\"k2\")\n",
    "bayes_bn.fit <- bn.fit(bayes_bn2,course.grades[,0:8])\n",
    "plot(bayes_bn)"
   ]
  },
  {
   "cell_type": "markdown",
   "id": "creative-extraction",
   "metadata": {},
   "source": [
    "## Q2) - Using the data, learn the CPTs for each course node."
   ]
  },
  {
   "cell_type": "code",
   "execution_count": 6,
   "id": "dynamic-aging",
   "metadata": {},
   "outputs": [
    {
     "name": "stdout",
     "output_type": "stream",
     "text": [
      "\n",
      "  Bayesian network parameters\n",
      "\n",
      "  Parameters of node EC100 (multinomial distribution)\n",
      "\n",
      "Conditional probability table:\n",
      " \n",
      "     MA101\n",
      "EC100         AA         AB         BB         BC         CC         CD\n",
      "   AA 0.75000000 0.07692308 0.03846154 0.01851852 0.00000000 0.00000000\n",
      "   AB 0.00000000 0.46153846 0.25000000 0.05555556 0.00000000 0.00000000\n",
      "   BB 0.25000000 0.23076923 0.32692308 0.22222222 0.04081633 0.00000000\n",
      "   BC 0.00000000 0.15384615 0.28846154 0.27777778 0.32653061 0.00000000\n",
      "   CC 0.00000000 0.07692308 0.09615385 0.24074074 0.32653061 0.04166667\n",
      "   CD 0.00000000 0.00000000 0.00000000 0.12962963 0.26530612 0.33333333\n",
      "   DD 0.00000000 0.00000000 0.00000000 0.03703704 0.04081633 0.50000000\n",
      "   F  0.00000000 0.00000000 0.00000000 0.01851852 0.00000000 0.12500000\n",
      "     MA101\n",
      "EC100         DD          F\n",
      "   AA 0.00000000 0.00000000\n",
      "   AB 0.00000000 0.00000000\n",
      "   BB 0.00000000 0.00000000\n",
      "   BC 0.00000000 0.00000000\n",
      "   CC 0.00000000 0.00000000\n",
      "   CD 0.04761905 0.00000000\n",
      "   DD 0.19047619 0.00000000\n",
      "   F  0.76190476 1.00000000\n",
      "\n",
      "  Parameters of node EC160 (multinomial distribution)\n",
      "\n",
      "Conditional probability table:\n",
      " \n",
      "     EC100\n",
      "EC160         AA         AB         BB         BC         CC         CD\n",
      "   AA 0.42857143 0.22727273 0.05714286 0.04166667 0.00000000 0.00000000\n",
      "   AB 0.42857143 0.22727273 0.08571429 0.04166667 0.08333333 0.00000000\n",
      "   BB 0.14285714 0.31818182 0.20000000 0.22916667 0.08333333 0.03448276\n",
      "   BC 0.00000000 0.22727273 0.42857143 0.43750000 0.36111111 0.17241379\n",
      "   CC 0.00000000 0.00000000 0.22857143 0.25000000 0.30555556 0.34482759\n",
      "   CD 0.00000000 0.00000000 0.00000000 0.00000000 0.11111111 0.27586207\n",
      "   DD 0.00000000 0.00000000 0.00000000 0.00000000 0.05555556 0.17241379\n",
      "   F  0.00000000 0.00000000 0.00000000 0.00000000 0.00000000 0.00000000\n",
      "     EC100\n",
      "EC160         DD          F\n",
      "   AA 0.00000000 0.00000000\n",
      "   AB 0.00000000 0.00000000\n",
      "   BB 0.05000000 0.00000000\n",
      "   BC 0.00000000 0.00000000\n",
      "   CC 0.25000000 0.02857143\n",
      "   CD 0.55000000 0.40000000\n",
      "   DD 0.15000000 0.34285714\n",
      "   F  0.00000000 0.22857143\n",
      "\n",
      "  Parameters of node IT101 (multinomial distribution)\n",
      "\n",
      "Conditional probability table:\n",
      " \n",
      "     IT161\n",
      "IT101         AA         AB         BB         BC         CC         CD\n",
      "   AA 0.35000000 0.08000000 0.05714286 0.02040816 0.00000000 0.00000000\n",
      "   AB 0.30000000 0.40000000 0.17142857 0.02040816 0.02380952 0.02857143\n",
      "   BB 0.25000000 0.40000000 0.31428571 0.14285714 0.00000000 0.02857143\n",
      "   BC 0.10000000 0.04000000 0.28571429 0.36734694 0.28571429 0.14285714\n",
      "   CC 0.00000000 0.08000000 0.14285714 0.32653061 0.33333333 0.11428571\n",
      "   CD 0.00000000 0.00000000 0.02857143 0.12244898 0.26190476 0.31428571\n",
      "   DD 0.00000000 0.00000000 0.00000000 0.00000000 0.04761905 0.34285714\n",
      "   F  0.00000000 0.00000000 0.00000000 0.00000000 0.04761905 0.02857143\n",
      "     IT161\n",
      "IT101         DD          F\n",
      "   AA 0.00000000 0.00000000\n",
      "   AB 0.00000000 0.00000000\n",
      "   BB 0.00000000 0.00000000\n",
      "   BC 0.04347826 0.00000000\n",
      "   CC 0.04347826 0.00000000\n",
      "   CD 0.21739130 0.33333333\n",
      "   DD 0.39130435 0.00000000\n",
      "   F  0.30434783 0.66666667\n",
      "\n",
      "  Parameters of node IT161 (multinomial distribution)\n",
      "\n",
      "Conditional probability table:\n",
      "         AA         AB         BB         BC         CC         CD         DD \n",
      "0.08620690 0.10775862 0.15086207 0.21120690 0.18103448 0.15086207 0.09913793 \n",
      "         F \n",
      "0.01293103 \n",
      "\n",
      "  Parameters of node MA101 (multinomial distribution)\n",
      "\n",
      "Conditional probability table:\n",
      " \n",
      "     IT101\n",
      "MA101         AA         AB         BB         BC         CC         CD\n",
      "   AA 0.16666667 0.04000000 0.00000000 0.00000000 0.02380952 0.00000000\n",
      "   AB 0.25000000 0.20000000 0.02941176 0.08163265 0.00000000 0.00000000\n",
      "   BB 0.33333333 0.56000000 0.38235294 0.22448980 0.19047619 0.05714286\n",
      "   BC 0.16666667 0.16000000 0.29411765 0.36734694 0.23809524 0.22857143\n",
      "   CC 0.08333333 0.00000000 0.20588235 0.28571429 0.35714286 0.31428571\n",
      "   CD 0.00000000 0.04000000 0.08823529 0.02040816 0.16666667 0.11428571\n",
      "   DD 0.00000000 0.00000000 0.00000000 0.02040816 0.02380952 0.22857143\n",
      "   F  0.00000000 0.00000000 0.00000000 0.00000000 0.00000000 0.05714286\n",
      "     IT101\n",
      "MA101         DD          F\n",
      "   AA 0.00000000 0.00000000\n",
      "   AB 0.00000000 0.00000000\n",
      "   BB 0.00000000 0.00000000\n",
      "   BC 0.08695652 0.00000000\n",
      "   CC 0.04347826 0.00000000\n",
      "   CD 0.30434783 0.08333333\n",
      "   DD 0.39130435 0.16666667\n",
      "   F  0.17391304 0.75000000\n",
      "\n",
      "  Parameters of node PH100 (multinomial distribution)\n",
      "\n",
      "Conditional probability table:\n",
      " \n",
      "     EC100\n",
      "PH100         AA         AB         BB         BC         CC         CD\n",
      "   AA 0.71428571 0.40909091 0.22857143 0.08333333 0.00000000 0.00000000\n",
      "   AB 0.14285714 0.31818182 0.20000000 0.18750000 0.05555556 0.00000000\n",
      "   BB 0.00000000 0.18181818 0.31428571 0.29166667 0.13888889 0.03448276\n",
      "   BC 0.14285714 0.04545455 0.14285714 0.22916667 0.33333333 0.13793103\n",
      "   CC 0.00000000 0.04545455 0.11428571 0.18750000 0.25000000 0.41379310\n",
      "   CD 0.00000000 0.00000000 0.00000000 0.02083333 0.19444444 0.31034483\n",
      "   DD 0.00000000 0.00000000 0.00000000 0.00000000 0.02777778 0.10344828\n",
      "   F  0.00000000 0.00000000 0.00000000 0.00000000 0.00000000 0.00000000\n",
      "     EC100\n",
      "PH100         DD          F\n",
      "   AA 0.00000000 0.00000000\n",
      "   AB 0.00000000 0.00000000\n",
      "   BB 0.05000000 0.00000000\n",
      "   BC 0.00000000 0.00000000\n",
      "   CC 0.20000000 0.02857143\n",
      "   CD 0.45000000 0.11428571\n",
      "   DD 0.20000000 0.45714286\n",
      "   F  0.10000000 0.40000000\n",
      "\n",
      "  Parameters of node PH160 (multinomial distribution)\n",
      "\n",
      "Conditional probability table:\n",
      " \n",
      "     HS101\n",
      "PH160         AA         AB         BB         BC         CC         CD\n",
      "   AA 0.23809524 0.17647059 0.05000000 0.11111111 0.07692308 0.10000000\n",
      "   AB 0.23809524 0.11764706 0.15000000 0.13888889 0.07692308 0.10000000\n",
      "   BB 0.16666667 0.26470588 0.17500000 0.16666667 0.00000000 0.00000000\n",
      "   BC 0.21428571 0.32352941 0.45000000 0.22222222 0.50000000 0.30000000\n",
      "   CC 0.09523810 0.08823529 0.12500000 0.30555556 0.15384615 0.45000000\n",
      "   CD 0.04761905 0.02941176 0.02500000 0.05555556 0.11538462 0.05000000\n",
      "   DD 0.00000000 0.00000000 0.02500000 0.00000000 0.07692308 0.00000000\n",
      "   F  0.00000000 0.00000000 0.00000000 0.00000000 0.00000000 0.00000000\n",
      "     HS101\n",
      "PH160         DD          F\n",
      "   AA 0.03448276 0.00000000\n",
      "   AB 0.10344828 0.00000000\n",
      "   BB 0.00000000 0.20000000\n",
      "   BC 0.10344828 0.00000000\n",
      "   CC 0.24137931 0.00000000\n",
      "   CD 0.37931034 0.00000000\n",
      "   DD 0.13793103 0.40000000\n",
      "   F  0.00000000 0.40000000\n",
      "\n",
      "  Parameters of node HS101 (multinomial distribution)\n",
      "\n",
      "Conditional probability table:\n",
      " \n",
      "     IT101\n",
      "HS101         AA         AB         BB         BC         CC         CD\n",
      "   AA 0.58333333 0.56000000 0.32352941 0.10204082 0.07142857 0.05714286\n",
      "   AB 0.33333333 0.24000000 0.11764706 0.22448980 0.14285714 0.08571429\n",
      "   BB 0.00000000 0.12000000 0.26470588 0.26530612 0.26190476 0.11428571\n",
      "   BC 0.08333333 0.08000000 0.08823529 0.24489796 0.23809524 0.20000000\n",
      "   CC 0.00000000 0.00000000 0.11764706 0.12244898 0.14285714 0.11428571\n",
      "   CD 0.00000000 0.00000000 0.05882353 0.02040816 0.14285714 0.20000000\n",
      "   DD 0.00000000 0.00000000 0.02941176 0.02040816 0.00000000 0.22857143\n",
      "   F  0.00000000 0.00000000 0.00000000 0.00000000 0.00000000 0.00000000\n",
      "     IT101\n",
      "HS101         DD          F\n",
      "   AA 0.00000000 0.00000000\n",
      "   AB 0.00000000 0.00000000\n",
      "   BB 0.00000000 0.00000000\n",
      "   BC 0.04347826 0.00000000\n",
      "   CC 0.26086957 0.00000000\n",
      "   CD 0.13043478 0.08333333\n",
      "   DD 0.52173913 0.58333333\n",
      "   F  0.04347826 0.33333333\n",
      "\n"
     ]
    }
   ],
   "source": [
    "print(bayes_bn.fit)"
   ]
  },
  {
   "cell_type": "markdown",
   "id": "gothic-diamond",
   "metadata": {},
   "source": [
    "## Q.3) What grade will a student get in PH100 if he earns DD in EC100, CC in IT101 and CD in MA101."
   ]
  },
  {
   "cell_type": "code",
   "execution_count": 7,
   "id": "lasting-demonstration",
   "metadata": {},
   "outputs": [
    {
     "name": "stdout",
     "output_type": "stream",
     "text": [
      "Grade earn by student is  CD  with prob =  0.006333333"
     ]
    }
   ],
   "source": [
    "score <- 0\n",
    "idx <- 0\n",
    "grades <- c(\"AA\", \"AB\", \"BB\", \"BC\", \"CC\", \"CD\", \"DD\", \"F\")\n",
    "\n",
    "for(i in 1:8)\n",
    "  {\n",
    "  set.seed(0)\n",
    "  pred <- cpquery(bayes_bn.fit, event = (IT101==\"CC\" & MA101==\"CD\" & EC100==\"DD\" & PH100==grades[i]), evidence = TRUE)\n",
    "  if(score<pred)\n",
    "    {\n",
    "      score <- pred\n",
    "      idx <- i\n",
    "  }\n",
    "}\n",
    "\n",
    "cat(\"Grade earn by student is \",grades[idx], \" with prob = \", score)"
   ]
  },
  {
   "cell_type": "markdown",
   "id": "northern-shame",
   "metadata": {},
   "source": [
    "## Q.4) The last column in the data file indicates whether a student qualifies for an internship program or not. From the given data, take 70 percent data for training and build a naive Bayes classifier (considering that the grades earned in different courses are independent of each other) which takes in the student’s performance and returns the qualification status with a probability. Test your classifier on the remaining 30 percent data. Repeat this experiment for 20 random selection of training and testing data. Report results about the accuracy of your classifier."
   ]
  },
  {
   "cell_type": "markdown",
   "id": "toxic-animation",
   "metadata": {},
   "source": [
    "##### P(QP, EC100, EC160, IT101, IT161, MA101, PH100, PH160, HS101) = P(QP) * P(EC100|QP) * P(EC100|QP) * P(IT101|QP) * P(IT161|QP) * P(MA101|QP) * P(PH100|QP) * P(PH160|QP) * P(HS101|QP)\n",
    "\n",
    "#### So we want : -\n",
    "#### P(QP | EC100, EC160, IT101, IT161, MA101, PH100, PH160, HS101) = P(QP, EC100, EC160, IT101, IT161, MA101, PH100, PH160, HS101) / P(EC100, EC160, IT101, IT161, MA101, PH100, PH160, HS101)"
   ]
  },
  {
   "cell_type": "code",
   "execution_count": 8,
   "id": "outer-integer",
   "metadata": {},
   "outputs": [
    {
     "name": "stdout",
     "output_type": "stream",
     "text": [
      "Accuracy at random sample no. 1 = 94.80519 %\n",
      "Accuracy at random sample no. 2 = 96.1039 %\n",
      "Accuracy at random sample no. 3 = 94.87179 %\n",
      "Accuracy at random sample no. 4 = 96.1039 %\n",
      "Accuracy at random sample no. 5 = 92.20779 %\n",
      "Accuracy at random sample no. 6 = 98.7013 %\n",
      "Accuracy at random sample no. 7 = 92.10526 %\n",
      "Accuracy at random sample no. 8 = 96.15385 %\n",
      "Accuracy at random sample no. 9 = 94.87179 %\n",
      "Accuracy at random sample no. 10 = 96.15385 %\n",
      "Accuracy at random sample no. 11 = 96.1039 %\n",
      "Accuracy at random sample no. 12 = 96.1039 %\n",
      "Accuracy at random sample no. 13 = 98.7013 %\n",
      "Accuracy at random sample no. 14 = 96.1039 %\n",
      "Accuracy at random sample no. 15 = 96.15385 %\n",
      "Accuracy at random sample no. 16 = 98.7013 %\n",
      "Accuracy at random sample no. 17 = 94.73684 %\n",
      "Accuracy at random sample no. 18 = 98.7013 %\n",
      "Accuracy at random sample no. 19 = 96.1039 %\n",
      "Accuracy at random sample no. 20 = 94.87179 %\n",
      "Average accuracy :  95.91803 %"
     ]
    },
    {
     "data": {
      "image/png": "[encoded data removed]",
      "text/plain": [
       "plot without title"
      ]
     },
     "metadata": {},
     "output_type": "display_data"
    }
   ],
   "source": [
    "avg = 0\n",
    "for(i in 0:19){\n",
    "    set.seed(123+i)\n",
    "    sample = sample.split(course.grades,SplitRatio = 0.70)\n",
    "    training = subset(course.grades,sample ==TRUE)\n",
    "    test = subset(course.grades, sample==FALSE)\n",
    "    nb.grades <- nb(class=\"QP\", dataset=training)\n",
    "    nb.grades <- lp(nb.grades, training, smooth=0)\n",
    "\n",
    "    pred <- predict(nb.grades, test)\n",
    "    acc <- accuracy(pred, test[,\"QP\"])\n",
    "    cat(\"Accuracy at random sample no.\",i+1, \"=\", acc*100,\"%\\n\")\n",
    "    avg <- avg + acc\n",
    "}\n",
    "cat(\"Average accuracy : \", avg*5,\"%\")\n",
    "plot(nb.grades)"
   ]
  },
  {
   "cell_type": "markdown",
   "id": "understood-image",
   "metadata": {},
   "source": [
    "#### Q5). Repeat 4, considering that the grades earned in different courses may be dependent."
   ]
  },
  {
   "cell_type": "code",
   "execution_count": 9,
   "id": "naval-tower",
   "metadata": {},
   "outputs": [
    {
     "name": "stdout",
     "output_type": "stream",
     "text": [
      "Accuracy at random sample no. 1 = 96.1039 %\n",
      "Accuracy at random sample no. 2 = 97.4026 %\n",
      "Accuracy at random sample no. 3 = 91.02564 %\n",
      "Accuracy at random sample no. 4 = 93.50649 %\n",
      "Accuracy at random sample no. 5 = 92.20779 %\n",
      "Accuracy at random sample no. 6 = 94.80519 %\n",
      "Accuracy at random sample no. 7 = 92.10526 %\n",
      "Accuracy at random sample no. 8 = 91.02564 %\n",
      "Accuracy at random sample no. 9 = 93.58974 %\n",
      "Accuracy at random sample no. 10 = 94.87179 %\n",
      "Accuracy at random sample no. 11 = 96.1039 %\n",
      "Accuracy at random sample no. 12 = 96.1039 %\n",
      "Accuracy at random sample no. 13 = 97.4026 %\n",
      "Accuracy at random sample no. 14 = 92.20779 %\n",
      "Accuracy at random sample no. 15 = 96.15385 %\n",
      "Accuracy at random sample no. 16 = 96.1039 %\n",
      "Accuracy at random sample no. 17 = 94.73684 %\n",
      "Accuracy at random sample no. 18 = 92.20779 %\n",
      "Accuracy at random sample no. 19 = 94.80519 %\n",
      "Accuracy at random sample no. 20 = 92.30769 %\n",
      "Average accuracy :  94.23888 %"
     ]
    },
    {
     "data": {
      "image/png": "[encoded data removed]",
      "text/plain": [
       "plot without title"
      ]
     },
     "metadata": {},
     "output_type": "display_data"
    }
   ],
   "source": [
    "avg = 0\n",
    "for(i in 0:19){\n",
    "    set.seed(123+i)\n",
    "    sample = sample.split(course.grades,SplitRatio = 0.70)\n",
    "    training =subset(course.grades,sample ==TRUE)\n",
    "    test=subset(course.grades, sample==FALSE)\n",
    "    tn <- tan_cl('QP', course.grades)\n",
    "    tn <- lp(tn, training, smooth = 1)\n",
    "    pred = predict(tn, test)\n",
    "    acc = accuracy(pred, test[,\"QP\"])\n",
    "    cat(\"Accuracy at random sample no.\",i+1, \"=\", acc*100,\"%\\n\")\n",
    "    avg = avg + acc\n",
    "}\n",
    "cat(\"Average accuracy : \", avg*5,\"%\")\n",
    "plot(tn)"
   ]
  }
 ],
 "metadata": {
  "kernelspec": {
   "display_name": "R",
   "language": "R",
   "name": "ir"
  },
  "language_info": {
   "codemirror_mode": "r",
   "file_extension": ".r",
   "mimetype": "text/x-r-source",
   "name": "R",
   "pygments_lexer": "r",
   "version": "3.6.1"
  }
 },
 "nbformat": 4,
 "nbformat_minor": 5
}
